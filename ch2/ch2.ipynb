{
 "cells": [
  {
   "metadata": {
    "ExecuteTime": {
     "end_time": "2025-06-26T16:09:06.365137Z",
     "start_time": "2025-06-26T16:09:06.354313Z"
    }
   },
   "cell_type": "code",
   "source": [
    "collie_weights =   [51.2,53.1,53.1,53.9,59.0,\n",
    "   59.3,60.2,61.1,67.2,67.6]\n",
    "\n",
    "\n",
    "collie_weight_mean = sum(collie_weights) / len(collie_weights)\n",
    "print(collie_weight_mean)"
   ],
   "id": "88d47060843db14e",
   "outputs": [
    {
     "name": "stdout",
     "output_type": "stream",
     "text": [
      "58.57000000000001\n"
     ]
    }
   ],
   "execution_count": 3
  },
  {
   "metadata": {
    "ExecuteTime": {
     "end_time": "2025-06-26T16:11:53.717620Z",
     "start_time": "2025-06-26T16:11:53.707224Z"
    }
   },
   "cell_type": "code",
   "source": [
    "import numpy as np\n",
    "\n",
    "\n",
    "collie_weights = np.array(\n",
    "  [51.2,53.1,53.1,53.9,59.0,\n",
    "   59.3,60.2,61.1,67.2,67.6]\n",
    ")\n",
    "collie_weights.sort()\n",
    "print(','.join(map(str, collie_weights)))\n",
    "collie_weight_mean = np.mean(collie_weights)\n",
    "\n",
    "\n",
    "# Collie Weight Mean (lbs): 58.56999999999999\n",
    "print(\"Collie Weight Mean (lbs):\", collie_weight_mean)"
   ],
   "id": "616d9456a876c130",
   "outputs": [
    {
     "name": "stdout",
     "output_type": "stream",
     "text": [
      "51.2,53.1,53.1,53.9,59.0,59.3,60.2,61.1,67.2,67.6\n",
      "Collie Weight Mean (lbs): 58.57000000000001\n"
     ]
    }
   ],
   "execution_count": 6
  },
  {
   "metadata": {},
   "cell_type": "code",
   "outputs": [
    {
     "name": "stdout",
     "output_type": "stream",
     "text": [
      "Variance:  57.65806451612904\n",
      "From NumPy:  57.65806451612903\n"
     ]
    }
   ],
   "execution_count": 1,
   "source": [
    "import numpy as np\n",
    "\n",
    "temps = [77,75,68,71,60,65,81,71,56,73,\n",
    "      79,80,85,84,72,69,82,81,71,63,\n",
    "      75,83,80,80,88,76,79,73,80,81,82]\n",
    "\n",
    "# calculate mean\n",
    "mean = sum(temps) / len(temps)\n",
    "\n",
    "# sum all the squared differences\n",
    "squared_diffs = 0\n",
    "for t in temps:\n",
    "  squared_diffs += (t - mean) ** 2\n",
    "\n",
    "# take the average of the squared differences\n",
    "variance = squared_diffs / (len(temps) - 1)\n",
    "\n",
    "# Variance:  57.65806451612904\n",
    "print(\"Variance: \", variance)\n",
    "\n",
    "# From NumPy:  57.65806451612903\n",
    "print(\"From NumPy: \", np.var(temps, ddof=1))\n"
   ],
   "id": "684389f6968fa442"
  }
 ],
 "metadata": {
  "kernelspec": {
   "display_name": "Python 3",
   "language": "python",
   "name": "python3"
  },
  "language_info": {
   "codemirror_mode": {
    "name": "ipython",
    "version": 2
   },
   "file_extension": ".py",
   "mimetype": "text/x-python",
   "name": "python",
   "nbconvert_exporter": "python",
   "pygments_lexer": "ipython2",
   "version": "2.7.6"
  }
 },
 "nbformat": 4,
 "nbformat_minor": 5
}
