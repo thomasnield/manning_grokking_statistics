{
 "cells": [
  {
   "metadata": {},
   "cell_type": "code",
   "source": [
    "import numpy as np\n",
    "import matplotlib.pyplot as plt\n",
    "from scipy.stats import norm\n",
    "\n",
    "mu, sigma = 64, 2.5\n",
    "\n",
    "x = np.linspace(mu-sigma*4, mu+sigma*4, 1000)\n",
    "y = norm.pdf(x, mu, sigma)\n",
    "\n",
    "# Plot the distribution\n",
    "plt.plot(x, y)\n",
    "plt.title(\"Height Distribution of US Women\")\n",
    "plt.xlabel(\"Height (inches)\")\n",
    "plt.ylabel(\"Probability Density\")\n",
    "plt.grid(True, alpha=0.3)\n",
    "plt.savefig('bh2iAz0j.svg')\n",
    "plt.savefig('bh2iAz0j.png')\n",
    "plt.show()\n"
   ],
   "id": "3dc246ce221ed0e3",
   "outputs": [],
   "execution_count": null
  },
  {
   "metadata": {},
   "cell_type": "code",
   "source": [
    "import numpy as np\n",
    "from numpy.random import normal\n",
    "from scipy.stats import norm\n",
    "import matplotlib.pyplot as plt\n",
    "\n",
    "# x = normal(loc=28, scale=3, size=78).astype(int)\n",
    "x = np.array([27, 22, 28, 27, 26, 28, 31, 25, 25, 33, 24, 28, 28, 30,\n",
    "              26, 25, 29, 28, 30, 30, 22, 28, 36, 27, 26, 31, 30, 25,\n",
    "              27, 32, 25, 23, 27, 24, 28, 24, 27, 28, 30, 26, 33, 29,\n",
    "              31, 29, 27, 31, 20, 23, 25, 29, 30, 24, 29, 28, 25, 25,\n",
    "              30, 30, 27, 36, 26, 31, 24, 29, 34, 27, 23, 29, 27, 19,\n",
    "              28, 30, 26, 29, 27, 30, 29, 28])\n",
    "\n",
    "print(x.shape)\n",
    "\n",
    "plt.hist(x, bins=np.arange(min(x), max(x) + 2) - 0.5, alpha=1.0, color='#002d8b')\n",
    "\n",
    "plt.title('\"Perfect\" Amount of Coffee for 16 oz Cup')\n",
    "plt.xlabel('Weight (grams)')\n",
    "plt.ylabel('Barista Votes')\n",
    "plt.xticks(range(min(x), max(x) + 1))\n",
    "plt.savefig('rDQQLO3F.svg')\n",
    "plt.savefig('rDQQLO3F.png')\n",
    "plt.show()\n"
   ],
   "id": "7e47e603426bd7fb",
   "outputs": [],
   "execution_count": null
  },
  {
   "metadata": {},
   "cell_type": "code",
   "source": [
    "import numpy as np\n",
    "\n",
    "x = np.array([27, 22, 28, 27, 26, 28, 31, 25, 25, 33, 24, 28, 28, 30,\n",
    "              26, 25, 29, 28, 30, 30, 22, 28, 36, 27, 26, 31, 30, 25,\n",
    "              27, 32, 25, 23, 27, 24, 28, 24, 27, 28, 30, 26, 33, 29,\n",
    "              31, 29, 27, 31, 20, 23, 25, 29, 30, 24, 29, 28, 25, 25,\n",
    "              30, 30, 27, 36, 26, 31, 24, 29, 34, 27, 23, 29, 27, 19,\n",
    "              28, 30, 26, 29, 27, 30, 29, 28])\n",
    "\n",
    "mean, median, std = np.mean(x), np.median(x), np.std(x, ddof=1)\n",
    "\n",
    "print(f\"MEAN: {mean:.1f}, MEDIAN: {median:.1f}, STD: {std:.1f}\")\n",
    "# MEAN: 27.6, MEDIAN: 28.0, STD: 3.2\n"
   ],
   "id": "1c288b75256e2018",
   "outputs": [],
   "execution_count": null
  },
  {
   "metadata": {},
   "cell_type": "code",
   "source": [
    "import numpy as np\n",
    "from scipy.stats import norm\n",
    "import matplotlib.pyplot as plt\n",
    "\n",
    "x = np.array([27, 22, 28, 27, 26, 28, 31, 25, 25, 33, 24, 28, 28, 30,\n",
    "              26, 25, 29, 28, 30, 30, 22, 28, 36, 27, 26, 31, 30, 25,\n",
    "              27, 32, 25, 23, 27, 24, 28, 24, 27, 28, 30, 26, 33, 29,\n",
    "              31, 29, 27, 31, 20, 23, 25, 29, 30, 24, 29, 28, 25, 25,\n",
    "              30, 30, 27, 36, 26, 31, 24, 29, 34, 27, 23, 29, 27, 19,\n",
    "              28, 30, 26, 29, 27, 30, 29, 28])\n",
    "\n",
    "mu, sigma = x.mean(), x.std()\n",
    "\n",
    "# Plot normal distribution curve\n",
    "x_line = np.linspace(mu - sigma * 4, mu + sigma * 4, 1000)\n",
    "y = norm.pdf(x_line, mu, sigma)\n",
    "plt.plot(x_line, y)\n",
    "\n",
    "# Add histogram but convert it to density scale\n",
    "plt.hist(x, bins=np.arange(min(x), max(x) + 2) - 0.5, alpha=.4, color='#002d8b', density=True)\n",
    "\n",
    "# Add labels and show\n",
    "plt.title(\"Ideal Coffee Grounds Amount for 16 oz Cup\")\n",
    "plt.xlabel(\"Weight (grams)\")\n",
    "plt.ylabel(\"Probability Density\")\n",
    "plt.grid(True, alpha=0.3)\n",
    "plt.savefig('boqz7qqM.svg')\n",
    "plt.savefig('boqz7qqM.png')\n",
    "plt.show()\n"
   ],
   "id": "b572ef833b832bef",
   "outputs": [],
   "execution_count": null
  },
  {
   "metadata": {},
   "cell_type": "markdown",
   "source": [
    "$$\n",
    "f(x) = \\frac{1}{\\sigma\\sqrt{2\\pi}} e^{-\\frac{(x-\\mu)^2}{2\\sigma^2}}\n",
    "$$"
   ],
   "id": "85e55516affc0351"
  },
  {
   "metadata": {},
   "cell_type": "code",
   "source": [
    "from math import sqrt, exp, pi\n",
    "\n",
    "def normal_pdf(x, mu, sigma):\n",
    "    return 1/(sigma * sqrt(2*pi)) * exp(-((x - mu)**2/sqrt(2*pi)))\n"
   ],
   "id": "63058a2cb6898150",
   "outputs": [],
   "execution_count": null
  },
  {
   "metadata": {},
   "cell_type": "code",
   "source": [
    "import numpy as np\n",
    "from scipy.stats import norm\n",
    "import matplotlib.pyplot as plt\n",
    "\n",
    "mu1, sigma1 = 10, 1.5\n",
    "mu2, sigma2 = 15, 2.5\n",
    "\n",
    "# Plot normal distribution curve\n",
    "\n",
    "x_line = np.linspace(mu1 - sigma1 * 4, mu2 + sigma2 * 4, 1000)\n",
    "y1 = norm.pdf(x_line, mu1, sigma1)\n",
    "y2 = norm.pdf(x_line, mu2, sigma2)\n",
    "plt.plot(x_line, y1)\n",
    "plt.plot(x_line, y2)\n",
    "\n",
    "# Add labels and show\n",
    "plt.ylabel(\"Probability Density\")\n",
    "plt.grid(True, alpha=0.3)\n",
    "plt.savefig('TE73G4qL.svg')\n",
    "plt.show()\n"
   ],
   "id": "d1e1226852d0cf9e",
   "outputs": [],
   "execution_count": null
  },
  {
   "metadata": {},
   "cell_type": "code",
   "source": [
    "import numpy as np\n",
    "import matplotlib.pyplot as plt\n",
    "from scipy.stats import norm\n",
    "\n",
    "mu, sigma = 64, 3\n",
    "x = np.linspace(mu - sigma * 4, mu + sigma * 4, 1000)\n",
    "y = norm.pdf(x, mu, sigma)\n",
    "\n",
    "# Plot the distribution\n",
    "plt.plot(x, y)\n",
    "\n",
    "# Add vertical and horizontal lines for likelihood at 61.63 lbs\n",
    "target_x = 61.63\n",
    "target_y = norm.pdf(target_x, mu, sigma)\n",
    "plt.axvline(x=target_x, color='k', linestyle='--', alpha=0.5)\n",
    "plt.axhline(y=target_y, color='k', linestyle='--', alpha=0.5)\n",
    "\n",
    "# Add label for the target y-value\n",
    "plt.text(target_x - 4.5, target_y, f'y = {target_y:.4f}', verticalalignment='bottom')\n",
    "\n",
    "# Add rotated label for the target x-value\n",
    "plt.text(target_x, .065, f'x = {target_x}', rotation=270, verticalalignment='bottom')\n",
    "\n",
    "plt.title(\"Weight Distribution of Golden Retrievers\")\n",
    "plt.xlabel(\"Weight (lbs)\")\n",
    "plt.ylabel(\"Probability Density\")\n",
    "plt.grid(True, alpha=0.3)\n",
    "plt.savefig('3tqkmYMR.svg')\n",
    "plt.savefig('3tqkmYMR.png')\n",
    "plt.show()"
   ],
   "id": "ba5f72b5fe83683d",
   "outputs": [],
   "execution_count": null
  },
  {
   "metadata": {},
   "cell_type": "code",
   "source": [
    "import numpy as np\n",
    "import matplotlib.pyplot as plt\n",
    "from scipy.stats import norm\n",
    "\n",
    "mu, sigma = 64, 3\n",
    "x = np.linspace(mu - sigma * 4, mu + sigma * 4, 1000)\n",
    "y = norm.pdf(x, mu, sigma)\n",
    "\n",
    "lower,upper = 61, 63\n",
    "A = norm.cdf(upper, mu, sigma) - norm.cdf(lower, mu, sigma)\n",
    "print(f\"Area under curve: {A:.4f}\")\n",
    "# Plot the distribution\n",
    "plt.plot(x, y)\n",
    "\n",
    "# Shade the area between lower and upper\n",
    "shade_x = x[(x >= lower) & (x <= upper)]\n",
    "shade_y = norm.pdf(shade_x, mu, sigma)\n",
    "plt.fill_between(shade_x, shade_y, alpha=0.5, color='#002d8b')\n",
    "\n",
    "mid_x = (lower + upper) / 2\n",
    "mid_y = norm.pdf(mid_x, mu, sigma) / 2\n",
    "plt.annotate(f'A = {A:.4f}',\n",
    "            xy=(mid_x, mid_y),\n",
    "            xytext=(mid_x + 2, mid_y + 0.02),\n",
    "            arrowprops=dict(facecolor='white', shrink=0.05),\n",
    "            bbox=dict(boxstyle='round,pad=0.5', fc='white', ec='gray', alpha=1.0))\n",
    "\n",
    "plt.title(\"Weight Distribution of Golden Retrievers\")\n",
    "plt.xlabel(\"Weight (lbs)\")\n",
    "plt.ylabel(\"Probability Density\")\n",
    "plt.grid(True, alpha=0.3)\n",
    "plt.savefig('I3UVtW5R.svg')\n",
    "plt.savefig('I3UVtW5R.png')\n",
    "plt.show()"
   ],
   "id": "f6cbc69f5061ed87",
   "outputs": [],
   "execution_count": null
  },
  {
   "metadata": {},
   "cell_type": "code",
   "source": [
    "import numpy as np\n",
    "import matplotlib.pyplot as plt\n",
    "from scipy.stats import norm\n",
    "\n",
    "mu, sigma = 0,1\n",
    "x = np.linspace(mu - sigma * 4, mu + sigma * 4, 1000)\n",
    "y = norm.pdf(x, mu, sigma)\n",
    "\n",
    "lower,upper = mu-sigma*1, mu+sigma*1\n",
    "A = norm.cdf(upper, mu, sigma) - norm.cdf(lower, mu, sigma)\n",
    "print(f\"Area under curve: {A:.4f}\")\n",
    "\n",
    "# Plot the distribution\n",
    "plt.plot(x, y)\n",
    "\n",
    "# Shade the area between lower and upper\n",
    "shade_x = x[(x >= lower) & (x <= upper)]\n",
    "shade_y = norm.pdf(shade_x, mu, sigma)\n",
    "plt.fill_between(shade_x, shade_y, alpha=0.5, color='#002d8b')\n",
    "\n",
    "mid_x = (lower + upper) / 2\n",
    "mid_y = norm.pdf(mid_x, mu, sigma) / 2\n",
    "plt.text(mid_x, mid_y, f'A = {A:.4f}',\n",
    "         horizontalalignment='center',\n",
    "         verticalalignment='center',\n",
    "         bbox=dict(facecolor='white', edgecolor='none', alpha=0.7))\n",
    "\n",
    "\n",
    "plt.grid(True, alpha=0.3)\n",
    "plt.savefig('cglnQzEv.svg')\n",
    "plt.savefig('cglnQzEv.png')\n",
    "plt.show()"
   ],
   "id": "173fde4b4279366f",
   "outputs": [],
   "execution_count": null
  },
  {
   "metadata": {},
   "cell_type": "code",
   "source": [
    "import numpy as np\n",
    "import matplotlib.pyplot as plt\n",
    "from scipy.stats import norm\n",
    "\n",
    "mu, sigma = 0,1\n",
    "x = np.linspace(mu - sigma * 4, mu + sigma * 4, 1000)\n",
    "y = norm.pdf(x, mu, sigma)\n",
    "\n",
    "lower,upper = mu-sigma*2, mu+sigma*2\n",
    "A = norm.cdf(upper, mu, sigma) - norm.cdf(lower, mu, sigma)\n",
    "print(f\"Area under curve: {A:.4f}\")\n",
    "\n",
    "# Plot the distribution\n",
    "plt.plot(x, y)\n",
    "\n",
    "# Shade the area between lower and upper\n",
    "shade_x = x[(x >= lower) & (x <= upper)]\n",
    "shade_y = norm.pdf(shade_x, mu, sigma)\n",
    "plt.fill_between(shade_x, shade_y, alpha=0.5, color='#002d8b')\n",
    "\n",
    "mid_x = (lower + upper) / 2\n",
    "mid_y = norm.pdf(mid_x, mu, sigma) / 2\n",
    "plt.text(mid_x, mid_y, f'A = {A:.4f}',\n",
    "         horizontalalignment='center',\n",
    "         verticalalignment='center',\n",
    "         bbox=dict(facecolor='white', edgecolor='none', alpha=0.7))\n",
    "\n",
    "\n",
    "plt.grid(True, alpha=0.3)\n",
    "plt.savefig('91Wux24d.svg')\n",
    "plt.savefig('91Wux24d.png')\n",
    "plt.show()"
   ],
   "id": "cd01a52d00016f65",
   "outputs": [],
   "execution_count": null
  },
  {
   "metadata": {},
   "cell_type": "code",
   "source": [
    "import numpy as np\n",
    "import matplotlib.pyplot as plt\n",
    "from scipy.stats import norm\n",
    "\n",
    "mu, sigma = 0,1\n",
    "x = np.linspace(mu - sigma * 4, mu + sigma * 4, 1000)\n",
    "y = norm.pdf(x, mu, sigma)\n",
    "\n",
    "lower,upper = mu-sigma*3, mu+sigma*3\n",
    "A = norm.cdf(upper, mu, sigma) - norm.cdf(lower, mu, sigma)\n",
    "print(f\"Area under curve: {A:.4f}\")\n",
    "\n",
    "# Plot the distribution\n",
    "plt.plot(x, y)\n",
    "\n",
    "# Shade the area between lower and upper\n",
    "shade_x = x[(x >= lower) & (x <= upper)]\n",
    "shade_y = norm.pdf(shade_x, mu, sigma)\n",
    "plt.fill_between(shade_x, shade_y, alpha=0.5, color='#002d8b')\n",
    "\n",
    "mid_x = (lower + upper) / 2\n",
    "mid_y = norm.pdf(mid_x, mu, sigma) / 2\n",
    "plt.text(mid_x, mid_y, f'A = {A:.4f}',\n",
    "         horizontalalignment='center',\n",
    "         verticalalignment='center',\n",
    "         bbox=dict(facecolor='white', edgecolor='none', alpha=0.7))\n",
    "\n",
    "\n",
    "plt.grid(True, alpha=0.3)\n",
    "plt.savefig('cGsC2qV8.svg')\n",
    "plt.savefig('cGsC2qV8.png')\n",
    "plt.show()"
   ],
   "id": "7150fccadb271aab",
   "outputs": [],
   "execution_count": null
  },
  {
   "metadata": {},
   "cell_type": "code",
   "source": [
    "mu, sigma = 27.6, 3.2\n",
    "\n",
    "min68, max68 = mu-sigma*1, mu+sigma*1\n",
    "print(f\"68% of baristas report coffee measurement between {min68:.1f} and {max68:.1f} grams\")\n",
    "\n",
    "min95, max95 = mu-sigma*2, mu+sigma*2\n",
    "print(f\"95% of baristas report coffee measurement between {min95:.1f} and {max95:.1f} grams\")\n",
    "\n",
    "min99_7, max99_7  = mu-sigma*3, mu+sigma*3\n",
    "print(f\"99.7% of baristas report coffee measurement between {min99_7:.1f} and {max99_7:.1f} grams\")\n",
    "\n",
    "# 68% of baristas report coffee measurement between 24.4 and 30.8 grams\n",
    "# 95% of baristas report coffee measurement between 21.2 and 34.0 grams\n",
    "# 99.7% of baristas report coffee measurement between 18.0 and 37.2 grams\n"
   ],
   "id": "d4eaf89825aa8a9b",
   "outputs": [],
   "execution_count": null
  },
  {
   "metadata": {},
   "cell_type": "code",
   "source": [
    "import numpy as np\n",
    "import matplotlib.pyplot as plt\n",
    "from scipy.stats import norm\n",
    "\n",
    "mu, sigma = 50000, 7500\n",
    "x = np.linspace(mu - sigma * 8, mu + sigma * 8, 1000)\n",
    "y = norm.pdf(x, mu, sigma)\n",
    "\n",
    "# Plot the distribution\n",
    "plt.plot(x, y)\n",
    "\n",
    "# Add point at 6 sigma\n",
    "six_sigma_point = mu - (6 * sigma)\n",
    "point_y = norm.pdf(six_sigma_point, mu, sigma)\n",
    "\n",
    "# Plot the point\n",
    "plt.plot(six_sigma_point, point_y, 'ro')  # Red dot\n",
    "\n",
    "# Add label with arrow\n",
    "plt.annotate('\"This was a six-sigma event!\"',\n",
    "            xy=(six_sigma_point, point_y),  # Point to label\n",
    "            xytext=(six_sigma_point - sigma*2, point_y + 0.00005),  # Text position\n",
    "            arrowprops=dict(facecolor='black', shrink=0.05),\n",
    "            bbox=dict(facecolor='white', edgecolor='red', alpha=0.8))\n",
    "\n",
    "plt.grid(True, alpha=0.3)\n",
    "plt.savefig('RPN94C6h.svg')\n",
    "plt.savefig('RPN94C6h.png')\n",
    "plt.show()"
   ],
   "id": "89707b8095049625",
   "outputs": [],
   "execution_count": null
  },
  {
   "metadata": {
    "ExecuteTime": {
     "end_time": "2025-06-19T19:41:05.879679Z",
     "start_time": "2025-06-19T19:41:05.877125Z"
    }
   },
   "cell_type": "code",
   "source": [
    "mu, sigma = 7, 1.5\n",
    "\n",
    "k = 3.0\n",
    "p_min = 1.0 - (1.0/k**2)\n",
    "lower,upper = mu-3*sigma, mu+3*sigma\n",
    "\n",
    "print(f\"At least {p_min*100:.1f}% of chips last between {lower:.1f} and {upper:.1f} years.\")\n",
    "# At least 88.9% of chips last between 2.5 and 11.5 years."
   ],
   "id": "9a623a77c05fa4cb",
   "outputs": [
    {
     "name": "stdout",
     "output_type": "stream",
     "text": [
      "At least 88.9% of chips last between 2.5 and 11.5 years.\n"
     ]
    }
   ],
   "execution_count": 4
  },
  {
   "metadata": {
    "ExecuteTime": {
     "end_time": "2025-06-19T22:34:01.221207Z",
     "start_time": "2025-06-19T22:34:00.859121Z"
    }
   },
   "cell_type": "code",
   "source": [
    "import pandas as pd\n",
    "from matplotlib import pyplot as plt\n",
    "\n",
    "df = pd.read_csv(\"https://raw.githubusercontent.com/thomasnield/\"\n",
    "              \"training-data-repository/refs/heads/main/TORNADO_TRX.csv\")\n",
    "\n",
    "x = df['TOR_WIDTH'].values\n",
    "print(f\"COUNT: {len(x)}\")\n",
    "\n",
    "plt.hist(x,bins=40, color='#002d8b')\n",
    "plt.title('Histogram of Tornado Width')\n",
    "plt.xlabel('Tornado Width')\n",
    "plt.ylabel('Frequency')\n",
    "plt.savefig('oeYRyDgk.svg')\n",
    "plt.savefig('oeYRyDgk.png')\n",
    "plt.show()"
   ],
   "id": "d8d202538e8c6c91",
   "outputs": [
    {
     "name": "stdout",
     "output_type": "stream",
     "text": [
      "COUNT: 3210\n"
     ]
    },
    {
     "data": {
      "text/plain": [
       "<Figure size 640x480 with 1 Axes>"
      ],
      "image/png": "[encoded data removed]"
     },
     "metadata": {},
     "output_type": "display_data"
    }
   ],
   "execution_count": 50
  },
  {
   "metadata": {
    "ExecuteTime": {
     "end_time": "2025-06-19T23:07:44.500288Z",
     "start_time": "2025-06-19T23:07:43.968964Z"
    }
   },
   "cell_type": "code",
   "source": [
    "import pandas as pd\n",
    "from matplotlib import pyplot as plt\n",
    "\n",
    "# Parameters\n",
    "n_samples = 1000  # Number of times we'll take samples\n",
    "sample_size = 45  # Size of each sample\n",
    "\n",
    "df = pd.read_csv(\"https://raw.githubusercontent.com/thomasnield/\"\n",
    "              \"training-data-repository/refs/heads/main/TORNADO_TRX.csv\")\n",
    "\n",
    "# Generate samples and calculate means\n",
    "sample_means = [\n",
    "    df['TOR_WIDTH'].sample(sample_size).mean() for _ in range(n_samples)\n",
    "]\n",
    "\n",
    "print(f\"SAMPLE MEANS MEAN: {np.mean(sample_means):.4f}, SAMPLE MEANS MEDIAN: {np.median(sample_means):.4f}\")\n",
    "\n",
    "plt.hist(sample_means, bins=40, color='#002d8b')\n",
    "plt.title('Histogram of Tornado Width Sample Means')\n",
    "plt.xlabel('Tornado Width Sample Mean')\n",
    "plt.ylabel('Frequency')\n",
    "plt.savefig('8SCKe6Fh.svg')\n",
    "plt.savefig('8SCKe6Fh.png')\n",
    "plt.show()"
   ],
   "id": "c1a4a83c837c5abe",
   "outputs": [
    {
     "name": "stdout",
     "output_type": "stream",
     "text": [
      "SAMPLE MEANS MEAN: 215.4295, SAMPLE MEANS MEDIAN: 213.1111\n"
     ]
    },
    {
     "data": {
      "text/plain": [
       "<Figure size 640x480 with 1 Axes>"
      ],
      "image/png": "[encoded data removed]"
     },
     "metadata": {},
     "output_type": "display_data"
    }
   ],
   "execution_count": 60
  },
  {
   "metadata": {},
   "cell_type": "code",
   "source": [
    "from scipy.stats import norm\n",
    "\n",
    "mu, sigma = 64, 3\n",
    "area = norm.cdf(63, mu, sigma) - norm.cdf(61, mu, sigma)\n",
    "print(f\"Area between 61 and 63: {area:.4f}\")\n",
    "# Area between 61 and 63: 0.2108"
   ],
   "id": "fe7b8b26e41e2df1",
   "outputs": [],
   "execution_count": null
  },
  {
   "metadata": {},
   "cell_type": "code",
   "source": [
    "import matplotlib.pyplot as plt\n",
    "import pandas as pd\n",
    "import numpy as np\n",
    "\n",
    "\n",
    "df = pd.read_csv(\"https://raw.githubusercontent.com/thomasnield/\"\n",
    "              \"training-data-repository/refs/heads/main/TORNADO_TRX.csv\")\n",
    "\n",
    "tor_width = df['TOR_WIDTH']\n",
    "\n",
    "print(\"MEAN: \", np.mean(tor_width))          # MEAN:  215.18971962616823\n",
    "print(\"MEDIAN: \", np.median(tor_width))      # MEDIAN:  100.0\n",
    "print(\"ST DEV: \", np.std(tor_width, ddof=1)) # ST DEV:  315.83093225491433\n",
    "\n",
    "\n",
    "print(\"25th PCT: \", np.percentile(tor_width, 25)) # 25th PCT:  50.0\n",
    "print(\"75th PCT: \", np.percentile(tor_width, 75)) # 75th PCT:  250.0\n",
    "\n",
    "\n",
    "print(df['TOR_F_SCALE'].value_counts())\n",
    "# TOR_F_SCALE\n",
    "# EF1    1250\n",
    "# EF0    1047\n",
    "# EFU     497\n",
    "# EF2     323\n",
    "# EF3      86\n",
    "# EF4       7\n",
    "\n",
    "\n",
    "# Create a histogram using matplotlib\n",
    "plt.hist(tor_width, bins=60, edgecolor='black')  # Adjust bins as needed\n",
    "plt.title('Histogram of Tornado Width')\n",
    "plt.xlabel('Width')\n",
    "plt.ylabel('Frequency')\n",
    "plt.grid(True, alpha=0.3)\n",
    "plt.show()\n"
   ],
   "id": "initial_id",
   "outputs": [],
   "execution_count": null
  },
  {
   "metadata": {},
   "cell_type": "markdown",
   "source": "",
   "id": "29ebfa927f8007d3"
  },
  {
   "metadata": {
    "ExecuteTime": {
     "end_time": "2025-06-20T01:52:53.499006Z",
     "start_time": "2025-06-20T01:52:52.502597Z"
    }
   },
   "cell_type": "code",
   "source": [
    "import matplotlib.pyplot as plt\n",
    "import pandas as pd\n",
    "import numpy as np\n",
    "\n",
    "df = pd.read_csv(\"https://raw.githubusercontent.com/thomasnield/\"\n",
    "              \"training-data-repository/refs/heads/main/TORNADO_TRX.csv\")\n",
    "\n",
    "\n",
    "tor_width = df['TOR_WIDTH']\n",
    "\n",
    "# Apply log transformation with base 10\n",
    "log_tor_width = np.log10(tor_width)\n",
    "\n",
    "# Create a histogram\n",
    "plt.hist(log_tor_width, bins=20, edgecolor='black')\n",
    "plt.title('Histogram of Log-Transformed Tornado Width')\n",
    "plt.xlabel('Log(Width)')\n",
    "plt.ylabel('Frequency')\n",
    "plt.grid(True, alpha=0.3, color='#002d8b')\n",
    "plt.savefig('ulBfnxWb.svg')\n",
    "plt.savefig('ulBfnxWb.png')\n",
    "plt.show()\n",
    "\n",
    "print(\"Log-transformed tornado width:\")\n",
    "print(\"MEAN: \", np.mean(log_tor_width))\n",
    "print(\"MEDIAN: \", np.median(log_tor_width))\n",
    "# Log-transformed tornado width:\n",
    "# MEAN:  2.0056436474610417\n",
    "# MEDIAN:  2.0"
   ],
   "id": "30e0f8720ad2f4ec",
   "outputs": [
    {
     "data": {
      "text/plain": [
       "<Figure size 640x480 with 1 Axes>"
      ],
      "image/png": "[encoded data removed]"
     },
     "metadata": {},
     "output_type": "display_data"
    },
    {
     "name": "stdout",
     "output_type": "stream",
     "text": [
      "Log-transformed tornado width:\n",
      "MEAN:  2.0056436474610417\n",
      "MEDIAN:  2.0\n"
     ]
    }
   ],
   "execution_count": 69
  }
 ],
 "metadata": {
  "kernelspec": {
   "display_name": "Python 3",
   "language": "python",
   "name": "python3"
  },
  "language_info": {
   "codemirror_mode": {
    "name": "ipython",
    "version": 2
   },
   "file_extension": ".py",
   "mimetype": "text/x-python",
   "name": "python",
   "nbconvert_exporter": "python",
   "pygments_lexer": "ipython2",
   "version": "2.7.6"
  }
 },
 "nbformat": 4,
 "nbformat_minor": 5
}
