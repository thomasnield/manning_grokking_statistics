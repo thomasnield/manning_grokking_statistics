{
 "cells": [
  {
   "metadata": {},
   "cell_type": "markdown",
   "source": "Body temperature of healthy adults is normally distributed with a mean of 98.2 degrees F and standard deviation of .73 degrees F. What is the probability a sample of 31 adults have an average body temp more than 98 degrees?",
   "id": "10c4016534c2da28"
  },
  {
   "metadata": {
    "ExecuteTime": {
     "end_time": "2025-07-22T13:58:26.779426Z",
     "start_time": "2025-07-22T13:58:26.776681Z"
    }
   },
   "cell_type": "code",
   "source": [
    "from scipy.stats import norm\n",
    "from math import sqrt\n",
    "\n",
    "mu = 98.2   # population mean\n",
    "sigma = .73 # population standard deviation\n",
    "n = 31      # sample size\n",
    "\n",
    "# population mean = mean of sample means\n",
    "mu_sample_mu = mu\n",
    "\n",
    "sigma_sample_means = sigma / sqrt(n) # 0.11542313459614584\n",
    "\n",
    "# probability of sample mean more than 98\n",
    "A = 1.0 - norm.cdf(98.0, mu_sample_mu, sigma_sample_means)\n",
    "\n",
    "print(f\"P(sample mean > 98.0): {A:.4f}\")"
   ],
   "id": "b1f74a8599359f93",
   "outputs": [
    {
     "name": "stdout",
     "output_type": "stream",
     "text": [
      "P(sample mean > 98.0): 0.9364\n"
     ]
    }
   ],
   "execution_count": 6
  },
  {
   "metadata": {},
   "cell_type": "code",
   "outputs": [
    {
     "name": "stdout",
     "output_type": "stream",
     "text": [
      "Probability that more than 68 voters are Democrats: 0.9965\n"
     ]
    }
   ],
   "execution_count": 1,
   "source": [
    "import scipy.stats as stats\n",
    "import numpy as np\n",
    "\n",
    "# Parameters\n",
    "p = 0.79  # Population proportion\n",
    "n = 100   # Sample size\n",
    "p_hat = 0.68  # Sample proportion threshold\n",
    "\n",
    "# Calculate mean and standard error\n",
    "mu = p\n",
    "se = np.sqrt(p * (1 - p) / n)\n",
    "\n",
    "# Calculate z-score\n",
    "z = (p_hat - mu) / se\n",
    "\n",
    "# Calculate probability P(Z > z) = 1 - P(Z <= z)\n",
    "prob = 1 - stats.norm.cdf(z)\n",
    "\n",
    "print(f\"Probability that more than 68 voters are Democrats: {prob:.4f}\")"
   ],
   "id": "initial_id"
  },
  {
   "metadata": {
    "ExecuteTime": {
     "end_time": "2025-06-24T15:49:07.416292Z",
     "start_time": "2025-06-24T15:49:07.411358Z"
    }
   },
   "cell_type": "code",
   "source": [
    "import scipy.stats as stats\n",
    "import numpy as np\n",
    "\n",
    "# Parameters\n",
    "p = 0.47  # Population proportion (47% want to buy a bike)\n",
    "n = 61    # Sample size\n",
    "p_hat = 0.40  # Threshold proportion (40%)\n",
    "\n",
    "# Calculate mean and standard error\n",
    "mu = p\n",
    "se = np.sqrt(p * (1 - p) / n)\n",
    "\n",
    "# Calculate z-score\n",
    "z = (p_hat - mu) / se\n",
    "\n",
    "# Calculate probability P(X < 0.40)\n",
    "prob = stats.norm.cdf(z)\n",
    "\n",
    "print(f\"Mean of sampling distribution: {mu:.4f}\")\n",
    "print(f\"Standard error: {se:.4f}\")\n",
    "print(f\"Z-score: {z:.4f}\")\n",
    "print(f\"Probability that less than 40% want to buy a bike: {prob:.4f}\")"
   ],
   "id": "43b6eb168abe60a1",
   "outputs": [
    {
     "name": "stdout",
     "output_type": "stream",
     "text": [
      "Mean of sampling distribution: 0.4700\n",
      "Standard error: 0.0639\n",
      "Z-score: -1.0954\n",
      "Probability that less than 40% want to buy a bike: 0.1367\n"
     ]
    }
   ],
   "execution_count": 2
  },
  {
   "metadata": {
    "ExecuteTime": {
     "end_time": "2025-06-24T16:14:26.336902Z",
     "start_time": "2025-06-24T16:14:26.280570Z"
    }
   },
   "cell_type": "code",
   "source": [
    "import scipy.stats as stats\n",
    "import numpy as np\n",
    "\n",
    "# Parameters\n",
    "p = 0.47  # Population proportion (47% want to buy a bike)\n",
    "n = 61    # Sample size\n",
    "p_hat = 0.40  # Threshold proportion (40%)\n",
    "\n",
    "# Calculate mean and standard error\n",
    "mu = p\n",
    "se = np.sqrt(p * (1 - p) / n)\n",
    "\n",
    "# Create normal distribution with mean=mu and std=se\n",
    "norm_dist = stats.norm(loc=mu, scale=se)\n",
    "\n",
    "# Calculate probability P(X < 0.40) directly\n",
    "prob = norm_dist.cdf(p_hat)\n",
    "\n",
    "print(f\"Mean of sampling distribution: {mu:.4f}\")\n",
    "print(f\"Standard error: {se:.4f}\")\n",
    "print(f\"Probability that less than 40% want to buy a bike: {prob:.4f}\")"
   ],
   "id": "bd7be0ff5fad832e",
   "outputs": [
    {
     "name": "stdout",
     "output_type": "stream",
     "text": [
      "Mean of sampling distribution: 0.4700\n",
      "Standard error: 0.0639\n",
      "Probability that less than 40% want to buy a bike: 0.1367\n"
     ]
    }
   ],
   "execution_count": 3
  }
 ],
 "metadata": {
  "kernelspec": {
   "display_name": "Python 3",
   "language": "python",
   "name": "python3"
  },
  "language_info": {
   "codemirror_mode": {
    "name": "ipython",
    "version": 2
   },
   "file_extension": ".py",
   "mimetype": "text/x-python",
   "name": "python",
   "nbconvert_exporter": "python",
   "pygments_lexer": "ipython2",
   "version": "2.7.6"
  }
 },
 "nbformat": 4,
 "nbformat_minor": 5
}
